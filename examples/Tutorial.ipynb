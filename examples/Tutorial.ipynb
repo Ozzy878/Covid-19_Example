{
 "cells": [
  {
   "cell_type": "markdown",
   "metadata": {},
   "source": [
    "## COVID-19 Vulnerability Index Tutorial\n",
    "\n",
    "The CV19 Index is designed to work off of medical claims data.  The underlying fields in this data are fairly well \n",
    "standardized, but the actual table and field layouts differ dramatically from one data set to another.  \n",
    "In this tutorial, we take an example data set that contains synthetic medical claims data and show the operations \n",
    "necessary to create an input file for the CV19 Index python code.\n",
    "\n",
    "To being, we import some standard libraries"
   ]
  },
  {
   "cell_type": "code",
   "execution_count": 1,
   "metadata": {
    "pycharm": {
     "is_executing": false
    }
   },
   "outputs": [
    {
     "name": "stdout",
     "text": [
      "Exception reporting mode: Plain\n"
     ],
     "output_type": "stream"
    }
   ],
   "source": [
    "%xmode Plain\n",
    "\n",
    "import pandas as pd\n",
    "import numpy as np\n",
    "import warnings\n",
    "import random\n",
    "import regex as re\n",
    "import json\n",
    "from pkg_resources import resource_filename\n",
    "\n",
    "warnings.filterwarnings(\"ignore\")"
   ]
  },
  {
   "cell_type": "markdown",
   "metadata": {},
   "source": [
    "We next need to import the `cv19index` module.  If you have installed the package using pip, then it will \n",
    "be available to import.  If you are running from a checkout of the git repository, you can add the parent directory \n",
    "to your python path to gain access to the module.  The code below attempts to determine the correct \n",
    "approach and import `cv19index`."
   ]
  },
  {
   "cell_type": "code",
   "execution_count": 2,
   "metadata": {
    "pycharm": {
     "is_executing": false
    }
   },
   "outputs": [],
   "source": [
    "try:\n",
    "    import cv19index\n",
    "except ModuleNotFoundError:\n",
    "    import sys\n",
    "    sys.path.append(\"../\")\n",
    "    import cv19index"
   ]
  },
  {
   "cell_type": "markdown",
   "metadata": {},
   "source": [
    "### Input files\n",
    "\n",
    "The example data is contained in the `data` directory.  It consists of 4 comma-separated value (CSV) files, with \n",
    "headers.  The data is synthetic and not real claims data.\n",
    "\n",
    "The 4 files are typical of files that are available containing medical claims data.  They are:\n",
    "* person.csv - A person file that contains basic demographics about each member.\n",
    "* eligibility.csv - A file that contains one row for each month of eligibility for each member.  \n",
    "   This file is not used in the current features but is generally present in claims data.\n",
    "* inpatient.csv - Contains data on inpatient claims, including diagnosis and procedure codes.  \n",
    "   Only diagnosis codes are used in these models\n",
    "* outpatient.csv - Contains data on outpatient claims, including diagnosis and procedure codes.  \n",
    "   Only diagnosis codes are used in these models\n",
    "\n",
    "We load each file into a pandas DataFrame and transform them to match the input for our model."
   ]
  },
  {
   "cell_type": "code",
   "execution_count": 3,
   "metadata": {
    "pycharm": {
     "is_executing": false
    }
   },
   "outputs": [],
   "source": [
    "person_df = pd.read_csv('data/person.csv')\n",
    "eligibility_df = pd.read_csv('data/eligibility.csv')\n",
    "inpatient_df = pd.read_csv('data/inpatient.csv')\n",
    "outpatient_df = pd.read_csv('data/outpatient.csv')"
   ]
  },
  {
   "cell_type": "markdown",
   "metadata": {},
   "source": [
    "### Basic data exploration"
   ]
  },
  {
   "cell_type": "markdown",
   "metadata": {},
   "source": [
    "The data set contains data on 1,000 people.  Each person can have 0 to many claims."
   ]
  },
  {
   "cell_type": "code",
   "execution_count": 4,
   "metadata": {
    "pycharm": {
     "is_executing": false
    }
   },
   "outputs": [
    {
     "data": {
      "text/plain": "((1000, 7), (21110, 2), (348, 33), (68133, 22))"
     },
     "metadata": {},
     "output_type": "execute_result",
     "execution_count": 4
    }
   ],
   "source": [
    "person_df.shape, eligibility_df.shape, inpatient_df.shape, outpatient_df.shape"
   ]
  },
  {
   "cell_type": "markdown",
   "metadata": {},
   "source": [
    "The person table contains basic demographics"
   ]
  },
  {
   "cell_type": "code",
   "execution_count": 5,
   "metadata": {
    "pycharm": {
     "is_executing": false
    }
   },
   "outputs": [
    {
     "data": {
      "text/plain": "           personId  gender                      birthYear  deathDate  \\\n0  772775338f7ee353       1  1947-10-24T00:00:00.000-06:00        NaN   \n1  d45d10ed2ec861c4       1  1931-10-19T00:00:00.000-06:00        NaN   \n2  590bda01eeb795ee       1  1949-03-19T00:00:00.000-06:00        NaN   \n3  14ad855b9fc39501       2  1952-12-19T00:00:00.000-06:00        NaN   \n4  48b8f6c7a0435491       2  1953-11-23T00:00:00.000-06:00        NaN   \n\n   zipCode   flag  age  \n0     9426  False   73  \n1    41330  False   89  \n2    37542  False   71  \n3    41127   True   68  \n4    16400  False   67  ",
      "text/html": "<div>\n<style scoped>\n    .dataframe tbody tr th:only-of-type {\n        vertical-align: middle;\n    }\n\n    .dataframe tbody tr th {\n        vertical-align: top;\n    }\n\n    .dataframe thead th {\n        text-align: right;\n    }\n</style>\n<table border=\"1\" class=\"dataframe\">\n  <thead>\n    <tr style=\"text-align: right;\">\n      <th></th>\n      <th>personId</th>\n      <th>gender</th>\n      <th>birthYear</th>\n      <th>deathDate</th>\n      <th>zipCode</th>\n      <th>flag</th>\n      <th>age</th>\n    </tr>\n  </thead>\n  <tbody>\n    <tr>\n      <th>0</th>\n      <td>772775338f7ee353</td>\n      <td>1</td>\n      <td>1947-10-24T00:00:00.000-06:00</td>\n      <td>NaN</td>\n      <td>9426</td>\n      <td>False</td>\n      <td>73</td>\n    </tr>\n    <tr>\n      <th>1</th>\n      <td>d45d10ed2ec861c4</td>\n      <td>1</td>\n      <td>1931-10-19T00:00:00.000-06:00</td>\n      <td>NaN</td>\n      <td>41330</td>\n      <td>False</td>\n      <td>89</td>\n    </tr>\n    <tr>\n      <th>2</th>\n      <td>590bda01eeb795ee</td>\n      <td>1</td>\n      <td>1949-03-19T00:00:00.000-06:00</td>\n      <td>NaN</td>\n      <td>37542</td>\n      <td>False</td>\n      <td>71</td>\n    </tr>\n    <tr>\n      <th>3</th>\n      <td>14ad855b9fc39501</td>\n      <td>2</td>\n      <td>1952-12-19T00:00:00.000-06:00</td>\n      <td>NaN</td>\n      <td>41127</td>\n      <td>True</td>\n      <td>68</td>\n    </tr>\n    <tr>\n      <th>4</th>\n      <td>48b8f6c7a0435491</td>\n      <td>2</td>\n      <td>1953-11-23T00:00:00.000-06:00</td>\n      <td>NaN</td>\n      <td>16400</td>\n      <td>False</td>\n      <td>67</td>\n    </tr>\n  </tbody>\n</table>\n</div>"
     },
     "metadata": {},
     "output_type": "execute_result",
     "execution_count": 5
    }
   ],
   "source": [
    "person_df.head()"
   ]
  },
  {
   "cell_type": "code",
   "execution_count": 6,
   "metadata": {
    "pycharm": {
     "is_executing": false
    }
   },
   "outputs": [
    {
     "data": {
      "text/plain": "           personId                           date\n0  0ab879955726c125  2017-01-01T00:00:00.000-06:00\n1  0ab879955726c125  2017-02-01T00:00:00.000-06:00\n2  0ab879955726c125  2017-03-01T00:00:00.000-06:00\n3  0ab879955726c125  2017-04-01T00:00:00.000-05:00\n4  0ab879955726c125  2017-05-01T00:00:00.000-05:00",
      "text/html": "<div>\n<style scoped>\n    .dataframe tbody tr th:only-of-type {\n        vertical-align: middle;\n    }\n\n    .dataframe tbody tr th {\n        vertical-align: top;\n    }\n\n    .dataframe thead th {\n        text-align: right;\n    }\n</style>\n<table border=\"1\" class=\"dataframe\">\n  <thead>\n    <tr style=\"text-align: right;\">\n      <th></th>\n      <th>personId</th>\n      <th>date</th>\n    </tr>\n  </thead>\n  <tbody>\n    <tr>\n      <th>0</th>\n      <td>0ab879955726c125</td>\n      <td>2017-01-01T00:00:00.000-06:00</td>\n    </tr>\n    <tr>\n      <th>1</th>\n      <td>0ab879955726c125</td>\n      <td>2017-02-01T00:00:00.000-06:00</td>\n    </tr>\n    <tr>\n      <th>2</th>\n      <td>0ab879955726c125</td>\n      <td>2017-03-01T00:00:00.000-06:00</td>\n    </tr>\n    <tr>\n      <th>3</th>\n      <td>0ab879955726c125</td>\n      <td>2017-04-01T00:00:00.000-05:00</td>\n    </tr>\n    <tr>\n      <th>4</th>\n      <td>0ab879955726c125</td>\n      <td>2017-05-01T00:00:00.000-05:00</td>\n    </tr>\n  </tbody>\n</table>\n</div>"
     },
     "metadata": {},
     "output_type": "execute_result",
     "execution_count": 6
    }
   ],
   "source": [
    "eligibility_df.head()"
   ]
  },
  {
   "cell_type": "markdown",
   "metadata": {},
   "source": [
    "Each row of the inpatient table can have several diagnosis codes.  In this model, we use all of the available \n",
    "diagnosis codes to build the features."
   ]
  },
  {
   "cell_type": "code",
   "execution_count": 7,
   "metadata": {
    "pycharm": {
     "is_executing": false
    }
   },
   "outputs": [
    {
     "data": {
      "text/plain": "           personId           claimId                      admitDate  \\\n0  c1ba927fb6d92cfe  aefde08ab8bb5460  2018-10-30T00:00:00.000-05:00   \n1  ca6bfe760572c820  c5b734d756438656  2017-05-14T00:00:00.000-05:00   \n2  ca6bfe760572c820  853bc8bfa326acd9  2017-06-18T00:00:00.000-05:00   \n3  ca6bfe760572c820  d0de7b57f83b6c58  2017-10-12T00:00:00.000-05:00   \n4  cd517bfb4ecaa586  b924caa27d2841fd  2018-06-11T00:00:00.000-05:00   \n\n                   dischargeDate  drg      dx1      dx2    dx3    dx4    dx5  \\\n0  2018-11-09T00:00:00.000-06:00  264    I2119     G546  I2720   N071  I4510   \n1  2017-05-17T00:00:00.000-05:00   55    I6201    Z9352  J9600   I151  I2602   \n2  2017-06-21T00:00:00.000-05:00  471  S82002C  S92426D   I409  I5084   I472   \n3  2017-10-15T00:00:00.000-05:00  245    B5881    Z9912   Z950   Q279   I213   \n4  2018-06-13T00:00:00.000-05:00  289    A3951     I221   I300    NaN  I1311   \n\n    ...   icdProc3 icdProc4 icdProc5 icdProc6 icdProc7 icdProc8 icdProc9  \\\n0   ...    02H64JZ  0T9670Z      NaN      NaN      NaN      NaN      NaN   \n1   ...        NaN      NaN      NaN      NaN      NaN      NaN      NaN   \n2   ...        NaN      NaN      NaN      NaN      NaN      NaN      NaN   \n3   ...        NaN      NaN      NaN      NaN      NaN      NaN      NaN   \n4   ...        NaN      NaN      NaN      NaN      NaN      NaN      NaN   \n\n  icdProc10      cost edAdmit  \n0       NaN  11861.70    True  \n1       NaN   6474.94    True  \n2       NaN   5806.56    True  \n3       NaN   8925.64    True  \n4       NaN   1941.76   False  \n\n[5 rows x 33 columns]",
      "text/html": "<div>\n<style scoped>\n    .dataframe tbody tr th:only-of-type {\n        vertical-align: middle;\n    }\n\n    .dataframe tbody tr th {\n        vertical-align: top;\n    }\n\n    .dataframe thead th {\n        text-align: right;\n    }\n</style>\n<table border=\"1\" class=\"dataframe\">\n  <thead>\n    <tr style=\"text-align: right;\">\n      <th></th>\n      <th>personId</th>\n      <th>claimId</th>\n      <th>admitDate</th>\n      <th>dischargeDate</th>\n      <th>drg</th>\n      <th>dx1</th>\n      <th>dx2</th>\n      <th>dx3</th>\n      <th>dx4</th>\n      <th>dx5</th>\n      <th>...</th>\n      <th>icdProc3</th>\n      <th>icdProc4</th>\n      <th>icdProc5</th>\n      <th>icdProc6</th>\n      <th>icdProc7</th>\n      <th>icdProc8</th>\n      <th>icdProc9</th>\n      <th>icdProc10</th>\n      <th>cost</th>\n      <th>edAdmit</th>\n    </tr>\n  </thead>\n  <tbody>\n    <tr>\n      <th>0</th>\n      <td>c1ba927fb6d92cfe</td>\n      <td>aefde08ab8bb5460</td>\n      <td>2018-10-30T00:00:00.000-05:00</td>\n      <td>2018-11-09T00:00:00.000-06:00</td>\n      <td>264</td>\n      <td>I2119</td>\n      <td>G546</td>\n      <td>I2720</td>\n      <td>N071</td>\n      <td>I4510</td>\n      <td>...</td>\n      <td>02H64JZ</td>\n      <td>0T9670Z</td>\n      <td>NaN</td>\n      <td>NaN</td>\n      <td>NaN</td>\n      <td>NaN</td>\n      <td>NaN</td>\n      <td>NaN</td>\n      <td>11861.70</td>\n      <td>True</td>\n    </tr>\n    <tr>\n      <th>1</th>\n      <td>ca6bfe760572c820</td>\n      <td>c5b734d756438656</td>\n      <td>2017-05-14T00:00:00.000-05:00</td>\n      <td>2017-05-17T00:00:00.000-05:00</td>\n      <td>55</td>\n      <td>I6201</td>\n      <td>Z9352</td>\n      <td>J9600</td>\n      <td>I151</td>\n      <td>I2602</td>\n      <td>...</td>\n      <td>NaN</td>\n      <td>NaN</td>\n      <td>NaN</td>\n      <td>NaN</td>\n      <td>NaN</td>\n      <td>NaN</td>\n      <td>NaN</td>\n      <td>NaN</td>\n      <td>6474.94</td>\n      <td>True</td>\n    </tr>\n    <tr>\n      <th>2</th>\n      <td>ca6bfe760572c820</td>\n      <td>853bc8bfa326acd9</td>\n      <td>2017-06-18T00:00:00.000-05:00</td>\n      <td>2017-06-21T00:00:00.000-05:00</td>\n      <td>471</td>\n      <td>S82002C</td>\n      <td>S92426D</td>\n      <td>I409</td>\n      <td>I5084</td>\n      <td>I472</td>\n      <td>...</td>\n      <td>NaN</td>\n      <td>NaN</td>\n      <td>NaN</td>\n      <td>NaN</td>\n      <td>NaN</td>\n      <td>NaN</td>\n      <td>NaN</td>\n      <td>NaN</td>\n      <td>5806.56</td>\n      <td>True</td>\n    </tr>\n    <tr>\n      <th>3</th>\n      <td>ca6bfe760572c820</td>\n      <td>d0de7b57f83b6c58</td>\n      <td>2017-10-12T00:00:00.000-05:00</td>\n      <td>2017-10-15T00:00:00.000-05:00</td>\n      <td>245</td>\n      <td>B5881</td>\n      <td>Z9912</td>\n      <td>Z950</td>\n      <td>Q279</td>\n      <td>I213</td>\n      <td>...</td>\n      <td>NaN</td>\n      <td>NaN</td>\n      <td>NaN</td>\n      <td>NaN</td>\n      <td>NaN</td>\n      <td>NaN</td>\n      <td>NaN</td>\n      <td>NaN</td>\n      <td>8925.64</td>\n      <td>True</td>\n    </tr>\n    <tr>\n      <th>4</th>\n      <td>cd517bfb4ecaa586</td>\n      <td>b924caa27d2841fd</td>\n      <td>2018-06-11T00:00:00.000-05:00</td>\n      <td>2018-06-13T00:00:00.000-05:00</td>\n      <td>289</td>\n      <td>A3951</td>\n      <td>I221</td>\n      <td>I300</td>\n      <td>NaN</td>\n      <td>I1311</td>\n      <td>...</td>\n      <td>NaN</td>\n      <td>NaN</td>\n      <td>NaN</td>\n      <td>NaN</td>\n      <td>NaN</td>\n      <td>NaN</td>\n      <td>NaN</td>\n      <td>NaN</td>\n      <td>1941.76</td>\n      <td>False</td>\n    </tr>\n  </tbody>\n</table>\n<p>5 rows × 33 columns</p>\n</div>"
     },
     "metadata": {},
     "output_type": "execute_result",
     "execution_count": 7
    }
   ],
   "source": [
    "inpatient_df.head()"
   ]
  },
  {
   "cell_type": "markdown",
   "metadata": {},
   "source": [
    "The outpatient table is similar to the inpatient table but has a single `serviceDate` instead of `admitDate` and \n",
    "`dischargeDate`, which are specific to overnight hospital stays."
   ]
  },
  {
   "cell_type": "code",
   "execution_count": 8,
   "metadata": {
    "pycharm": {
     "is_executing": false
    }
   },
   "outputs": [
    {
     "data": {
      "text/plain": "           personId           claimId                    serviceDate  hcpcs  \\\n0  0ab879955726c125  76f3f6ff57e6c2ae  2017-02-03T00:00:00.000-06:00  G2011   \n1  0ab879955726c125  36e93e0e4e2705d2  2017-02-03T00:00:00.000-06:00    NaN   \n2  0ab879955726c125  3e0bc41dc76c2a55  2017-02-14T00:00:00.000-06:00    NaN   \n3  0ab879955726c125  3e0bc41dc76c2a55  2017-02-14T00:00:00.000-06:00    NaN   \n4  0ab879955726c125  3e0bc41dc76c2a55  2017-02-14T00:00:00.000-06:00  J8670   \n\n      dx1    dx2  dx3  dx4  dx5  dx6   ...    dx9 dx10 dx11 dx12 dx13 dx14  \\\n0   Z5111  D0582  NaN  NaN  NaN  NaN   ...    NaN  NaN  NaN  NaN  NaN  NaN   \n1   D0592    NaN  NaN  NaN  NaN  NaN   ...    NaN  NaN  NaN  NaN  NaN  NaN   \n2  Z86000    NaN  NaN  NaN  NaN  NaN   ...    NaN  NaN  NaN  NaN  NaN  NaN   \n3    Z114    NaN  NaN  NaN  NaN  NaN   ...    NaN  NaN  NaN  NaN  NaN  NaN   \n4   Z1151    NaN  NaN  NaN  NaN  NaN   ...    NaN  NaN  NaN  NaN  NaN  NaN   \n\n  dx15 dxE1    cost edVisit  \n0  NaN  NaN   68.01   False  \n1  NaN  NaN   10.00   False  \n2  NaN  NaN    8.00   False  \n3  NaN  NaN  155.41   False  \n4  NaN  NaN   26.49   False  \n\n[5 rows x 22 columns]",
      "text/html": "<div>\n<style scoped>\n    .dataframe tbody tr th:only-of-type {\n        vertical-align: middle;\n    }\n\n    .dataframe tbody tr th {\n        vertical-align: top;\n    }\n\n    .dataframe thead th {\n        text-align: right;\n    }\n</style>\n<table border=\"1\" class=\"dataframe\">\n  <thead>\n    <tr style=\"text-align: right;\">\n      <th></th>\n      <th>personId</th>\n      <th>claimId</th>\n      <th>serviceDate</th>\n      <th>hcpcs</th>\n      <th>dx1</th>\n      <th>dx2</th>\n      <th>dx3</th>\n      <th>dx4</th>\n      <th>dx5</th>\n      <th>dx6</th>\n      <th>...</th>\n      <th>dx9</th>\n      <th>dx10</th>\n      <th>dx11</th>\n      <th>dx12</th>\n      <th>dx13</th>\n      <th>dx14</th>\n      <th>dx15</th>\n      <th>dxE1</th>\n      <th>cost</th>\n      <th>edVisit</th>\n    </tr>\n  </thead>\n  <tbody>\n    <tr>\n      <th>0</th>\n      <td>0ab879955726c125</td>\n      <td>76f3f6ff57e6c2ae</td>\n      <td>2017-02-03T00:00:00.000-06:00</td>\n      <td>G2011</td>\n      <td>Z5111</td>\n      <td>D0582</td>\n      <td>NaN</td>\n      <td>NaN</td>\n      <td>NaN</td>\n      <td>NaN</td>\n      <td>...</td>\n      <td>NaN</td>\n      <td>NaN</td>\n      <td>NaN</td>\n      <td>NaN</td>\n      <td>NaN</td>\n      <td>NaN</td>\n      <td>NaN</td>\n      <td>NaN</td>\n      <td>68.01</td>\n      <td>False</td>\n    </tr>\n    <tr>\n      <th>1</th>\n      <td>0ab879955726c125</td>\n      <td>36e93e0e4e2705d2</td>\n      <td>2017-02-03T00:00:00.000-06:00</td>\n      <td>NaN</td>\n      <td>D0592</td>\n      <td>NaN</td>\n      <td>NaN</td>\n      <td>NaN</td>\n      <td>NaN</td>\n      <td>NaN</td>\n      <td>...</td>\n      <td>NaN</td>\n      <td>NaN</td>\n      <td>NaN</td>\n      <td>NaN</td>\n      <td>NaN</td>\n      <td>NaN</td>\n      <td>NaN</td>\n      <td>NaN</td>\n      <td>10.00</td>\n      <td>False</td>\n    </tr>\n    <tr>\n      <th>2</th>\n      <td>0ab879955726c125</td>\n      <td>3e0bc41dc76c2a55</td>\n      <td>2017-02-14T00:00:00.000-06:00</td>\n      <td>NaN</td>\n      <td>Z86000</td>\n      <td>NaN</td>\n      <td>NaN</td>\n      <td>NaN</td>\n      <td>NaN</td>\n      <td>NaN</td>\n      <td>...</td>\n      <td>NaN</td>\n      <td>NaN</td>\n      <td>NaN</td>\n      <td>NaN</td>\n      <td>NaN</td>\n      <td>NaN</td>\n      <td>NaN</td>\n      <td>NaN</td>\n      <td>8.00</td>\n      <td>False</td>\n    </tr>\n    <tr>\n      <th>3</th>\n      <td>0ab879955726c125</td>\n      <td>3e0bc41dc76c2a55</td>\n      <td>2017-02-14T00:00:00.000-06:00</td>\n      <td>NaN</td>\n      <td>Z114</td>\n      <td>NaN</td>\n      <td>NaN</td>\n      <td>NaN</td>\n      <td>NaN</td>\n      <td>NaN</td>\n      <td>...</td>\n      <td>NaN</td>\n      <td>NaN</td>\n      <td>NaN</td>\n      <td>NaN</td>\n      <td>NaN</td>\n      <td>NaN</td>\n      <td>NaN</td>\n      <td>NaN</td>\n      <td>155.41</td>\n      <td>False</td>\n    </tr>\n    <tr>\n      <th>4</th>\n      <td>0ab879955726c125</td>\n      <td>3e0bc41dc76c2a55</td>\n      <td>2017-02-14T00:00:00.000-06:00</td>\n      <td>J8670</td>\n      <td>Z1151</td>\n      <td>NaN</td>\n      <td>NaN</td>\n      <td>NaN</td>\n      <td>NaN</td>\n      <td>NaN</td>\n      <td>...</td>\n      <td>NaN</td>\n      <td>NaN</td>\n      <td>NaN</td>\n      <td>NaN</td>\n      <td>NaN</td>\n      <td>NaN</td>\n      <td>NaN</td>\n      <td>NaN</td>\n      <td>26.49</td>\n      <td>False</td>\n    </tr>\n  </tbody>\n</table>\n<p>5 rows × 22 columns</p>\n</div>"
     },
     "metadata": {},
     "output_type": "execute_result",
     "execution_count": 8
    }
   ],
   "source": [
    "outpatient_df.head()"
   ]
  },
  {
   "cell_type": "markdown",
   "metadata": {},
   "source": [
    "### Data Preparation\n",
    "\n",
    "The ICD-10 codes contained in the files did not contain periods, which is common in claims databases.  \n",
    "The function below inserts the period at the appropriate place in the code."
   ]
  },
  {
   "cell_type": "code",
   "execution_count": 9,
   "metadata": {
    "pycharm": {
     "is_executing": false
    }
   },
   "outputs": [],
   "source": [
    "def cleanICD10Syntax(code):\n",
    "    if len(code) > 3 and '.' not in code:\n",
    "        return code[:3] + '.' + code[3:]\n",
    "    else:\n",
    "        return code"
   ]
  },
  {
   "cell_type": "markdown",
   "metadata": {},
   "source": [
    "The following function takes in the above DataFrames and performs the following tasks:-\n",
    "1. Filters the inpatient and outpatient dataframe to have admits and claims within a year of the asOfDate passed.\n",
    "2. Calculates Age\n",
    "3. Formats the Dataframe for the input of the model\n",
    "4. For all CCSR Codes :-\n",
    "    1. Finds all the ICD-10 codes for the CCSR mentioned. \n",
    "    2. Filter the inpatient and outpatient dataframe to have only those admits and claims which have \n",
    "    the ICD10 codes for the CCSR within the year of asOfDate.\n",
    "    4. Map it back to the person"
   ]
  },
  {
   "cell_type": "code",
   "execution_count": 10,
   "metadata": {
    "pycharm": {
     "is_executing": false
    }
   },
   "outputs": [],
   "source": [
    "# noinspection PyShadowingNames\n",
    "def getTestDataFrame(person_df, eligibility_df, inpatient_df, outpatient_df, asOfDate, diagnosis_columns):\n",
    "    \n",
    "    #Getting diagnosis within the past year of asOfDate\n",
    "    asOfPastYear = str(pd.to_datetime(asOfDate) - pd.DateOffset(years=1))\n",
    "    inpatient_df = inpatient_df[(asOfPastYear <= inpatient_df['admitDate']) & \n",
    "                                (inpatient_df['admitDate'] <= asOfDate)]\n",
    "    outpatient_df = outpatient_df[(asOfPastYear <= outpatient_df['serviceDate']) & \n",
    "                                  (outpatient_df['serviceDate'] <= asOfDate)]\n",
    "    \n",
    "    inpatient_er_visit = inpatient_df[inpatient_df['edAdmit'] == True][['personId', 'admitDate']].groupby(\n",
    "        'personId').admitDate.nunique().reset_index()\n",
    "    outpatient_er_visit = outpatient_df[outpatient_df['edVisit'] == True][['personId', 'serviceDate']].groupby(\n",
    "        'personId').serviceDate.nunique().reset_index()\n",
    "    \n",
    "    #Calculating Age, # of ER Visits, # of Admissions and Inpatient days\n",
    "    person_df['Age'] = person_df['birthYear'].apply(\n",
    "        lambda x : pd.to_datetime('now').year - pd.to_datetime(x).year)\n",
    "    person_df = person_df.merge(inpatient_er_visit, how='left').merge(outpatient_er_visit, how='left')\n",
    "    person_df['# of ER Visits (12M)'] = person_df['admitDate'] + person_df['serviceDate']\n",
    "    \n",
    "    inpatient_df['Inpatient Days'] = inpatient_df[['dischargeDate','admitDate']].apply(\n",
    "        lambda x: (pd.to_datetime(x.dischargeDate) - pd.to_datetime(x.admitDate)).days, axis=1)\n",
    "    inpatient_er_days = inpatient_df[['personId', 'Inpatient Days']]\n",
    "    person_df = person_df.merge(inpatient_er_days, how='left')\n",
    "    \n",
    "    person_df = person_df.fillna(0)\n",
    "    \n",
    "    person_df = person_df[['personId', '# of ER Visits (12M)', 'gender', 'Age', 'admitDate', 'Inpatient Days']]\n",
    "    #Number of admissions is number of unique admit dates.\n",
    "    person_df = person_df.rename(columns={'gender' : 'Gender', 'admitDate' : '# of Admissions (12M)' })\n",
    "    \n",
    "    #Cleaning the diagnosis codes\n",
    "    for column in diagnosis_columns:\n",
    "        inpatient_df[column] = inpatient_df[column].apply(lambda x : cleanICD10Syntax(str(x)))\n",
    "        outpatient_df[column] = outpatient_df[column].apply(lambda x : cleanICD10Syntax(str(x)))\n",
    "    \n",
    "    nodes = pd.read_csv(resource_filename('cv19index', 'resources/ccsrNodes.txt'))\n",
    "    edges_df = pd.read_csv(resource_filename('cv19index', 'resources/ccsrEdges.txt'))\n",
    "    edges_df['code'] = edges_df['child'].apply(lambda x: x.split(':')[1])\n",
    "    \n",
    "    #Generating features for each node\n",
    "    for CCSR,description in nodes.values:\n",
    "        # Getting the codes\n",
    "        codes = edges_df[edges_df['parent'].str.contains(CCSR)]\n",
    "        selected_inpatient = inpatient_df[inpatient_df.isin(codes['code'].values).any(axis=1)]['personId'].values\n",
    "        selected_outpatient = outpatient_df[outpatient_df.isin(codes['code'].values).any(axis=1)]['personId'].values\n",
    "        selected_personId = np.unique(np.concatenate((selected_inpatient,selected_outpatient)))\n",
    "\n",
    "        #Assigning the diagnosis flag to ther person\n",
    "        description = re.sub(\"[^\\P{P}-/']+\", \"_\", description.replace(\")\", \"\"))\n",
    "        column_name = \"Diagnosis of \"+description+ \" in the previous 12 months\"\n",
    "        person_df[column_name] = person_df['personId'].apply(lambda x : True if x in selected_personId else False)\n",
    "        \n",
    "\n",
    "    \n",
    "    #Getting the column order for the model\n",
    "    f = open(resource_filename(\"cv19index\", \"resources/xgboost/input.csv.schema.json\"))\n",
    "    column_order = [item['name'] for item in json.load(f)['schema']]\n",
    "    f.close()\n",
    "    \n",
    "    #returning the needed features.\n",
    "    return person_df[column_order]"
   ]
  },
  {
   "cell_type": "markdown",
   "metadata": {},
   "source": [
    "Generate the result dataframe that will be the input for the model"
   ]
  },
  {
   "cell_type": "code",
   "execution_count": 11,
   "metadata": {
    "pycharm": {
     "is_executing": false
    }
   },
   "outputs": [
    {
     "data": {
      "text/plain": "           personId  # of ER Visits (12M)  Gender  Age  \\\n0  772775338f7ee353                   0.0       1   73   \n1  d45d10ed2ec861c4                   0.0       1   89   \n2  590bda01eeb795ee                   0.0       1   71   \n3  14ad855b9fc39501                   0.0       2   68   \n4  48b8f6c7a0435491                   0.0       2   67   \n\n   Diagnosis of Certain infectious and parasitic diseases in the previous 12 months  \\\n0                                              False                                  \n1                                              False                                  \n2                                              False                                  \n3                                               True                                  \n4                                              False                                  \n\n   Diagnosis of Neoplasms in the previous 12 months  \\\n0                                             False   \n1                                             False   \n2                                             False   \n3                                             False   \n4                                             False   \n\n   Diagnosis of Diseases of the blood and blood-forming organs and certain disorders involving the immune mechanism in the previous 12 months  \\\n0                                              False                                                                                            \n1                                              False                                                                                            \n2                                              False                                                                                            \n3                                              False                                                                                            \n4                                              False                                                                                            \n\n   Diagnosis of Endocrine_ nutritional and metabolic diseases in the previous 12 months  \\\n0                                              False                                      \n1                                              False                                      \n2                                              False                                      \n3                                               True                                      \n4                                              False                                      \n\n   Diagnosis of Mental_ behavioral and neurodevelopmental disorders in the previous 12 months  \\\n0                                              False                                            \n1                                              False                                            \n2                                              False                                            \n3                                               True                                            \n4                                              False                                            \n\n   Diagnosis of Diseases of the nervous system in the previous 12 months  \\\n0                                              False                       \n1                                              False                       \n2                                              False                       \n3                                               True                       \n4                                              False                       \n\n        ...        \\\n0       ...         \n1       ...         \n2       ...         \n3       ...         \n4       ...         \n\n   Diagnosis of Nervous system signs and symptoms in the previous 12 months  \\\n0                                              False                          \n1                                              False                          \n2                                              False                          \n3                                              False                          \n4                                              False                          \n\n   Diagnosis of Genitourinary signs and symptoms in the previous 12 months  \\\n0                                              False                         \n1                                              False                         \n2                                              False                         \n3                                               True                         \n4                                              False                         \n\n   Diagnosis of Circulatory signs and symptoms in the previous 12 months  \\\n0                                              False                       \n1                                              False                       \n2                                              False                       \n3                                              False                       \n4                                              False                       \n\n   Diagnosis of Respiratory signs and symptoms in the previous 12 months  \\\n0                                              False                       \n1                                              False                       \n2                                              False                       \n3                                              False                       \n4                                              False                       \n\n   Diagnosis of Skin/Subcutaneous signs and symptoms in the previous 12 months  \\\n0                                              False                             \n1                                              False                             \n2                                              False                             \n3                                              False                             \n4                                              False                             \n\n   Diagnosis of General sensation/perception signs and symptoms in the previous 12 months  \\\n0                                              False                                        \n1                                              False                                        \n2                                              False                                        \n3                                              False                                        \n4                                              False                                        \n\n   Diagnosis of Other general signs and symptoms in the previous 12 months  \\\n0                                              False                         \n1                                              False                         \n2                                              False                         \n3                                               True                         \n4                                              False                         \n\n   Diagnosis of Abnormal findings without diagnosis in the previous 12 months  \\\n0                                               True                            \n1                                              False                            \n2                                              False                            \n3                                               True                            \n4                                              False                            \n\n   # of Admissions (12M)  Inpatient Days  \n0                    0.0             0.0  \n1                    0.0             0.0  \n2                    0.0             0.0  \n3                    0.0             0.0  \n4                    0.0             0.0  \n\n[5 rows x 565 columns]",
      "text/html": "<div>\n<style scoped>\n    .dataframe tbody tr th:only-of-type {\n        vertical-align: middle;\n    }\n\n    .dataframe tbody tr th {\n        vertical-align: top;\n    }\n\n    .dataframe thead th {\n        text-align: right;\n    }\n</style>\n<table border=\"1\" class=\"dataframe\">\n  <thead>\n    <tr style=\"text-align: right;\">\n      <th></th>\n      <th>personId</th>\n      <th># of ER Visits (12M)</th>\n      <th>Gender</th>\n      <th>Age</th>\n      <th>Diagnosis of Certain infectious and parasitic diseases in the previous 12 months</th>\n      <th>Diagnosis of Neoplasms in the previous 12 months</th>\n      <th>Diagnosis of Diseases of the blood and blood-forming organs and certain disorders involving the immune mechanism in the previous 12 months</th>\n      <th>Diagnosis of Endocrine_ nutritional and metabolic diseases in the previous 12 months</th>\n      <th>Diagnosis of Mental_ behavioral and neurodevelopmental disorders in the previous 12 months</th>\n      <th>Diagnosis of Diseases of the nervous system in the previous 12 months</th>\n      <th>...</th>\n      <th>Diagnosis of Nervous system signs and symptoms in the previous 12 months</th>\n      <th>Diagnosis of Genitourinary signs and symptoms in the previous 12 months</th>\n      <th>Diagnosis of Circulatory signs and symptoms in the previous 12 months</th>\n      <th>Diagnosis of Respiratory signs and symptoms in the previous 12 months</th>\n      <th>Diagnosis of Skin/Subcutaneous signs and symptoms in the previous 12 months</th>\n      <th>Diagnosis of General sensation/perception signs and symptoms in the previous 12 months</th>\n      <th>Diagnosis of Other general signs and symptoms in the previous 12 months</th>\n      <th>Diagnosis of Abnormal findings without diagnosis in the previous 12 months</th>\n      <th># of Admissions (12M)</th>\n      <th>Inpatient Days</th>\n    </tr>\n  </thead>\n  <tbody>\n    <tr>\n      <th>0</th>\n      <td>772775338f7ee353</td>\n      <td>0.0</td>\n      <td>1</td>\n      <td>73</td>\n      <td>False</td>\n      <td>False</td>\n      <td>False</td>\n      <td>False</td>\n      <td>False</td>\n      <td>False</td>\n      <td>...</td>\n      <td>False</td>\n      <td>False</td>\n      <td>False</td>\n      <td>False</td>\n      <td>False</td>\n      <td>False</td>\n      <td>False</td>\n      <td>True</td>\n      <td>0.0</td>\n      <td>0.0</td>\n    </tr>\n    <tr>\n      <th>1</th>\n      <td>d45d10ed2ec861c4</td>\n      <td>0.0</td>\n      <td>1</td>\n      <td>89</td>\n      <td>False</td>\n      <td>False</td>\n      <td>False</td>\n      <td>False</td>\n      <td>False</td>\n      <td>False</td>\n      <td>...</td>\n      <td>False</td>\n      <td>False</td>\n      <td>False</td>\n      <td>False</td>\n      <td>False</td>\n      <td>False</td>\n      <td>False</td>\n      <td>False</td>\n      <td>0.0</td>\n      <td>0.0</td>\n    </tr>\n    <tr>\n      <th>2</th>\n      <td>590bda01eeb795ee</td>\n      <td>0.0</td>\n      <td>1</td>\n      <td>71</td>\n      <td>False</td>\n      <td>False</td>\n      <td>False</td>\n      <td>False</td>\n      <td>False</td>\n      <td>False</td>\n      <td>...</td>\n      <td>False</td>\n      <td>False</td>\n      <td>False</td>\n      <td>False</td>\n      <td>False</td>\n      <td>False</td>\n      <td>False</td>\n      <td>False</td>\n      <td>0.0</td>\n      <td>0.0</td>\n    </tr>\n    <tr>\n      <th>3</th>\n      <td>14ad855b9fc39501</td>\n      <td>0.0</td>\n      <td>2</td>\n      <td>68</td>\n      <td>True</td>\n      <td>False</td>\n      <td>False</td>\n      <td>True</td>\n      <td>True</td>\n      <td>True</td>\n      <td>...</td>\n      <td>False</td>\n      <td>True</td>\n      <td>False</td>\n      <td>False</td>\n      <td>False</td>\n      <td>False</td>\n      <td>True</td>\n      <td>True</td>\n      <td>0.0</td>\n      <td>0.0</td>\n    </tr>\n    <tr>\n      <th>4</th>\n      <td>48b8f6c7a0435491</td>\n      <td>0.0</td>\n      <td>2</td>\n      <td>67</td>\n      <td>False</td>\n      <td>False</td>\n      <td>False</td>\n      <td>False</td>\n      <td>False</td>\n      <td>False</td>\n      <td>...</td>\n      <td>False</td>\n      <td>False</td>\n      <td>False</td>\n      <td>False</td>\n      <td>False</td>\n      <td>False</td>\n      <td>False</td>\n      <td>False</td>\n      <td>0.0</td>\n      <td>0.0</td>\n    </tr>\n  </tbody>\n</table>\n<p>5 rows × 565 columns</p>\n</div>"
     },
     "metadata": {},
     "output_type": "execute_result",
     "execution_count": 11
    }
   ],
   "source": [
    "asOfDate = '2018-06-01'\n",
    "diagnosis_cols = [ 'dx1','dx2', 'dx3', 'dx4', 'dx5', \n",
    "                   'dx6', 'dx7', 'dx8', 'dx9', 'dx10', 'dx11', \n",
    "                   'dx12', 'dx13', 'dx14', 'dx15', 'dxE1']\n",
    "\n",
    "\n",
    "result = getTestDataFrame(person_df, eligibility_df, inpatient_df, \n",
    "                          outpatient_df, asOfDate, diagnosis_columns=diagnosis_cols)\n",
    "result = result.reset_index().drop(columns=['index'])\n",
    "result.head()"
   ]
  },
  {
   "cell_type": "code",
   "execution_count": 12,
   "metadata": {
    "pycharm": {
     "is_executing": false
    }
   },
   "outputs": [],
   "source": [
    "output_name = \"xgboost/example_input.csv\"\n",
    "result.to_csv(output_name, index=False, float_format=\"%f\")"
   ]
  },
  {
   "cell_type": "markdown",
   "metadata": {},
   "source": [
    "### Running the CV19 Index Predictor\n",
    "\n",
    "The cv19index.predict `do_run` function is used to generate predictions.  This function takes 4 parameters:\n",
    "1. input_file\n",
    "2. input_schema (Default schema is available in the resource)\n",
    "3. model (Path to the model pickle)\n",
    "4. output_file"
   ]
  },
  {
   "cell_type": "code",
   "execution_count": 13,
   "metadata": {
    "pycharm": {
     "is_executing": false
    }
   },
   "outputs": [],
   "source": [
    "from cv19index.predict import do_run"
   ]
  },
  {
   "cell_type": "code",
   "execution_count": 14,
   "metadata": {
    "pycharm": {
     "is_executing": false
    }
   },
   "outputs": [
    {
     "name": "stderr",
     "text": [
      "Computing SHAP scores.  Approximate = False\n",
      "SHAP values completed\n"
     ],
     "output_type": "stream"
    }
   ],
   "source": [
    "input_fpath = \"xgboost/example_input.csv\"\n",
    "input_schema = resource_filename(\"cv19index\", \"resources/xgboost/input.csv.schema.json\")\n",
    "model = resource_filename(\"cv19index\", \"resources/xgboost/model.pickle\")\n",
    "# model = resource_filename(\"cv19index\", \"resources/model_simple/model.pickle\")\n",
    "output = \"xgboost/example_prediction.csv\"\n",
    "\n",
    "do_run(input_fpath, input_schema, model, output)"
   ]
  },
  {
   "cell_type": "markdown",
   "metadata": {},
   "source": [
    "This function writes out a CSV file that contains the predictions along with a rationale for each predicted value.\n",
    "\n",
    "The `risk score` column contains an integer from 1 to 100 which indicates the individual's risk relative to the overall \n",
    "Medicare beneficiary population.  A risk of 100 is the highest, and a risk of 50 means the person has the median \n",
    "risk within the population.\n",
    "\n",
    "The `prediction` column contains the person's predicted probability of having the proxy outcome.\n",
    "\n",
    "The `pos_factors` and `neg_factors` columns contain information about different factors for this person the increase \n",
    "or decrease, respectively, the person's risk."
   ]
  },
  {
   "cell_type": "code",
   "execution_count": 15,
   "metadata": {
    "pycharm": {
     "is_executing": false,
     "name": "#%%\n"
    }
   },
   "outputs": [
    {
     "data": {
      "text/plain": "           personId  prediction  risk_score  \\\n0  001ef63fe5cb0cc5    0.002871          84   \n1  00669248edd53308    0.000343          10   \n2  00cf64b1fb5d4463    0.004796          92   \n3  015e674b3c39f428    0.001446          69   \n4  019a142f46a5bc3a    0.000579          39   \n\n                                         pos_factors  \\\n0  ['Age', 'Diagnosis of Heart failure in the pre...   \n1  ['Diagnosis of Neoplasm-related encounters in ...   \n2  ['Age', 'Diagnosis of Heart failure in the pre...   \n3  ['Age', 'Diagnosis of Diseases of the circulat...   \n4  ['Age', 'Diagnosis of Neoplasm-related encount...   \n\n                                     pos_shap_scores  \\\n0  [0.474, 0.445, 0.158, 0.089, 0.046, 0.042, 0.0...   \n1                              [0.053, 0.024, 0.021]   \n2  [0.916, 0.404, 0.289, 0.136, 0.06, 0.055, 0.03...   \n3  [0.548, 0.11, 0.055, 0.049, 0.039, 0.031, 0.02...   \n4                              [0.068, 0.057, 0.026]   \n\n                                  pos_patient_values  \\\n0  [84.0, 1.0, 1.0, 1.0, 1.0, 0.0, 1.0, 0.0, 1.0,...   \n1                              [False, False, False]   \n2     [89.0, 1.0, 1.0, 1.0, 1.0, 0.0, 0.0, 1.0, 1.0]   \n3          [85.0, 1.0, 1.0, 0.0, 1.0, 1.0, 0.0, 0.0]   \n4                                   [79.0, 0.0, 0.0]   \n\n                                         neg_factors  \\\n0  ['Diagnosis of Respiratory signs and symptoms ...   \n1  ['Age', 'Diagnosis of Respiratory signs and sy...   \n2  ['Diagnosis of Respiratory signs and symptoms ...   \n3  ['Diagnosis of Respiratory signs and symptoms ...   \n4  ['Diagnosis of Respiratory signs and symptoms ...   \n\n                                     neg_shap_scores  \\\n0  [-0.225, -0.17, -0.129, -0.097, -0.078, -0.043...   \n1  [-0.401, -0.237, -0.192, -0.146, -0.135, -0.12...   \n2  [-0.198, -0.171, -0.128, -0.111, -0.091, -0.05...   \n3  [-0.211, -0.16, -0.127, -0.102, -0.093, -0.069...   \n4  [-0.267, -0.178, -0.135, -0.131, -0.116, -0.07...   \n\n                                  neg_patient_values  \\\n0  [False, True, 0.0, False, False, False, False,...   \n1  [69.0, False, False, 0.0, False, False, False,...   \n2  [False, True, 0.0, False, True, False, False, ...   \n3  [False, 0.0, False, True, False, False, False,...   \n4  [False, False, 0.0, False, False, False, None,...   \n\n                                   neg_shap_scores_w  \\\n0  [-0.3515625, -0.265625, -0.2015625, -0.1515625...   \n1  [-0.6265625, -0.3703125, -0.3, -0.228125, -0.2...   \n2  [-0.309375, -0.2671875, -0.2, -0.1734375, -0.1...   \n3  [-0.32968749999999997, -0.25, -0.1984375, -0.1...   \n4  [-0.4171875, -0.27812499999999996, -0.2109375,...   \n\n                                   pos_shap_scores_w  \\\n0  [0.740625, 0.6953125, 0.246875, 0.139062499999...   \n1                     [0.0828125, 0.0375, 0.0328125]   \n2  [1.4312500000000001, 0.63125, 0.4515625, 0.212...   \n3  [0.8562500000000001, 0.171875, 0.0859375, 0.07...   \n4  [0.10625000000000001, 0.0890625, 0.04062499999...   \n\n                      pos_shap_percentile  \\\n0  [94, 94, 73, 55, 27, 25, 25, 13, 6, 2]   \n1                              [32, 4, 0]   \n2     [99, 93, 89, 70, 41, 36, 18, 11, 5]   \n3          [96, 63, 36, 30, 20, 11, 5, 2]   \n4                             [45, 38, 5]   \n\n                        neg_shap_percentile  \n0   [81, 74, 69, 60, 48, 25, 25, 15, 11, 6]  \n1  [93, 86, 76, 72, 70, 68, 55, 32, 29, 29]  \n2  [78, 74, 69, 63, 56, 41, 36, 32, 29, 22]  \n3  [80, 73, 69, 61, 58, 45, 38, 25, 20, 14]  \n4  [88, 75, 70, 70, 66, 47, 32, 27, 25, 13]  ",
      "text/html": "<div>\n<style scoped>\n    .dataframe tbody tr th:only-of-type {\n        vertical-align: middle;\n    }\n\n    .dataframe tbody tr th {\n        vertical-align: top;\n    }\n\n    .dataframe thead th {\n        text-align: right;\n    }\n</style>\n<table border=\"1\" class=\"dataframe\">\n  <thead>\n    <tr style=\"text-align: right;\">\n      <th></th>\n      <th>personId</th>\n      <th>prediction</th>\n      <th>risk_score</th>\n      <th>pos_factors</th>\n      <th>pos_shap_scores</th>\n      <th>pos_patient_values</th>\n      <th>neg_factors</th>\n      <th>neg_shap_scores</th>\n      <th>neg_patient_values</th>\n      <th>neg_shap_scores_w</th>\n      <th>pos_shap_scores_w</th>\n      <th>pos_shap_percentile</th>\n      <th>neg_shap_percentile</th>\n    </tr>\n  </thead>\n  <tbody>\n    <tr>\n      <th>0</th>\n      <td>001ef63fe5cb0cc5</td>\n      <td>0.002871</td>\n      <td>84</td>\n      <td>['Age', 'Diagnosis of Heart failure in the pre...</td>\n      <td>[0.474, 0.445, 0.158, 0.089, 0.046, 0.042, 0.0...</td>\n      <td>[84.0, 1.0, 1.0, 1.0, 1.0, 0.0, 1.0, 0.0, 1.0,...</td>\n      <td>['Diagnosis of Respiratory signs and symptoms ...</td>\n      <td>[-0.225, -0.17, -0.129, -0.097, -0.078, -0.043...</td>\n      <td>[False, True, 0.0, False, False, False, False,...</td>\n      <td>[-0.3515625, -0.265625, -0.2015625, -0.1515625...</td>\n      <td>[0.740625, 0.6953125, 0.246875, 0.139062499999...</td>\n      <td>[94, 94, 73, 55, 27, 25, 25, 13, 6, 2]</td>\n      <td>[81, 74, 69, 60, 48, 25, 25, 15, 11, 6]</td>\n    </tr>\n    <tr>\n      <th>1</th>\n      <td>00669248edd53308</td>\n      <td>0.000343</td>\n      <td>10</td>\n      <td>['Diagnosis of Neoplasm-related encounters in ...</td>\n      <td>[0.053, 0.024, 0.021]</td>\n      <td>[False, False, False]</td>\n      <td>['Age', 'Diagnosis of Respiratory signs and sy...</td>\n      <td>[-0.401, -0.237, -0.192, -0.146, -0.135, -0.12...</td>\n      <td>[69.0, False, False, 0.0, False, False, False,...</td>\n      <td>[-0.6265625, -0.3703125, -0.3, -0.228125, -0.2...</td>\n      <td>[0.0828125, 0.0375, 0.0328125]</td>\n      <td>[32, 4, 0]</td>\n      <td>[93, 86, 76, 72, 70, 68, 55, 32, 29, 29]</td>\n    </tr>\n    <tr>\n      <th>2</th>\n      <td>00cf64b1fb5d4463</td>\n      <td>0.004796</td>\n      <td>92</td>\n      <td>['Age', 'Diagnosis of Heart failure in the pre...</td>\n      <td>[0.916, 0.404, 0.289, 0.136, 0.06, 0.055, 0.03...</td>\n      <td>[89.0, 1.0, 1.0, 1.0, 1.0, 0.0, 0.0, 1.0, 1.0]</td>\n      <td>['Diagnosis of Respiratory signs and symptoms ...</td>\n      <td>[-0.198, -0.171, -0.128, -0.111, -0.091, -0.05...</td>\n      <td>[False, True, 0.0, False, True, False, False, ...</td>\n      <td>[-0.309375, -0.2671875, -0.2, -0.1734375, -0.1...</td>\n      <td>[1.4312500000000001, 0.63125, 0.4515625, 0.212...</td>\n      <td>[99, 93, 89, 70, 41, 36, 18, 11, 5]</td>\n      <td>[78, 74, 69, 63, 56, 41, 36, 32, 29, 22]</td>\n    </tr>\n    <tr>\n      <th>3</th>\n      <td>015e674b3c39f428</td>\n      <td>0.001446</td>\n      <td>69</td>\n      <td>['Age', 'Diagnosis of Diseases of the circulat...</td>\n      <td>[0.548, 0.11, 0.055, 0.049, 0.039, 0.031, 0.02...</td>\n      <td>[85.0, 1.0, 1.0, 0.0, 1.0, 1.0, 0.0, 0.0]</td>\n      <td>['Diagnosis of Respiratory signs and symptoms ...</td>\n      <td>[-0.211, -0.16, -0.127, -0.102, -0.093, -0.069...</td>\n      <td>[False, 0.0, False, True, False, False, False,...</td>\n      <td>[-0.32968749999999997, -0.25, -0.1984375, -0.1...</td>\n      <td>[0.8562500000000001, 0.171875, 0.0859375, 0.07...</td>\n      <td>[96, 63, 36, 30, 20, 11, 5, 2]</td>\n      <td>[80, 73, 69, 61, 58, 45, 38, 25, 20, 14]</td>\n    </tr>\n    <tr>\n      <th>4</th>\n      <td>019a142f46a5bc3a</td>\n      <td>0.000579</td>\n      <td>39</td>\n      <td>['Age', 'Diagnosis of Neoplasm-related encount...</td>\n      <td>[0.068, 0.057, 0.026]</td>\n      <td>[79.0, 0.0, 0.0]</td>\n      <td>['Diagnosis of Respiratory signs and symptoms ...</td>\n      <td>[-0.267, -0.178, -0.135, -0.131, -0.116, -0.07...</td>\n      <td>[False, False, 0.0, False, False, False, None,...</td>\n      <td>[-0.4171875, -0.27812499999999996, -0.2109375,...</td>\n      <td>[0.10625000000000001, 0.0890625, 0.04062499999...</td>\n      <td>[45, 38, 5]</td>\n      <td>[88, 75, 70, 70, 66, 47, 32, 27, 25, 13]</td>\n    </tr>\n  </tbody>\n</table>\n</div>"
     },
     "metadata": {},
     "output_type": "execute_result",
     "execution_count": 15
    }
   ],
   "source": [
    "output_df = pd.read_csv(output)\n",
    "output_df.head()"
   ]
  }
 ],
 "metadata": {
  "kernelspec": {
   "display_name": "Python 3",
   "language": "python",
   "name": "python3"
  },
  "language_info": {
   "codemirror_mode": {
    "name": "ipython",
    "version": 3
   },
   "file_extension": ".py",
   "mimetype": "text/x-python",
   "name": "python",
   "nbconvert_exporter": "python",
   "pygments_lexer": "ipython3",
   "version": "3.7.2"
  },
  "pycharm": {
   "stem_cell": {
    "cell_type": "raw",
    "source": [],
    "metadata": {
     "collapsed": false
    }
   }
  }
 },
 "nbformat": 4,
 "nbformat_minor": 4
}